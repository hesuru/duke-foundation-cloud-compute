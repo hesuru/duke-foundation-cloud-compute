{
 "cells": [
  {
   "cell_type": "code",
   "execution_count": 1,
   "id": "66fdcb96-7eda-4dd3-932e-44e38c4669ff",
   "metadata": {},
   "outputs": [
    {
     "name": "stdout",
     "output_type": "stream",
     "text": [
      "Hello, Anaconda\n"
     ]
    }
   ],
   "source": [
    "print(\"Hello, Anaconda\")"
   ]
  },
  {
   "cell_type": "markdown",
   "id": "8f3838ed-53ea-4342-89a1-9ac5409da4b3",
   "metadata": {},
   "source": [
    "##Practice using the markdown format\n",
    "This is my first use of code and text documentation. And this is my first \"Hello Anaconda\" program.\n"
   ]
  },
  {
   "cell_type": "code",
   "execution_count": null,
   "id": "4d26ee36-42bc-4dfa-ab46-4909e3e386ef",
   "metadata": {},
   "outputs": [],
   "source": []
  }
 ],
 "metadata": {
  "kernelspec": {
   "display_name": "Python 3 (ipykernel)",
   "language": "python",
   "name": "python3"
  },
  "language_info": {
   "codemirror_mode": {
    "name": "ipython",
    "version": 3
   },
   "file_extension": ".py",
   "mimetype": "text/x-python",
   "name": "python",
   "nbconvert_exporter": "python",
   "pygments_lexer": "ipython3",
   "version": "3.12.4"
  }
 },
 "nbformat": 4,
 "nbformat_minor": 5
}
